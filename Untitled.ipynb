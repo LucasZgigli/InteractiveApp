{
 "cells": [
  {
   "cell_type": "code",
   "execution_count": 1,
   "id": "6f95ac51",
   "metadata": {},
   "outputs": [
    {
     "name": "stdout",
     "output_type": "stream",
     "text": [
      "Checking file: C:\\Users\\lucas\\OneDrive\\Área de Trabalho\\CCT\\Github\\InteractiveApp\\meat_market_model.h5\n",
      "File is readable: C:\\Users\\lucas\\OneDrive\\Área de Trabalho\\CCT\\Github\\InteractiveApp\\meat_market_model.h5\n",
      "Checking file: C:\\Users\\lucas\\OneDrive\\Área de Trabalho\\CCT\\Github\\InteractiveApp\\scaler.pkl\n",
      "File is readable: C:\\Users\\lucas\\OneDrive\\Área de Trabalho\\CCT\\Github\\InteractiveApp\\scaler.pkl\n",
      "Checking file: C:\\Users\\lucas\\OneDrive\\Área de Trabalho\\CCT\\Github\\InteractiveApp\\Item_encoder.pkl\n",
      "File is readable: C:\\Users\\lucas\\OneDrive\\Área de Trabalho\\CCT\\Github\\InteractiveApp\\Item_encoder.pkl\n",
      "Checking file: C:\\Users\\lucas\\OneDrive\\Área de Trabalho\\CCT\\Github\\InteractiveApp\\Area_encoder.pkl\n",
      "File is readable: C:\\Users\\lucas\\OneDrive\\Área de Trabalho\\CCT\\Github\\InteractiveApp\\Area_encoder.pkl\n"
     ]
    },
    {
     "data": {
      "text/plain": [
       "True"
      ]
     },
     "execution_count": 1,
     "metadata": {},
     "output_type": "execute_result"
    }
   ],
   "source": [
    "import os\n",
    "\n",
    "# Define paths using raw string literals\n",
    "base_path = r'C:\\Users\\lucas\\OneDrive\\Área de Trabalho\\CCT\\Github\\InteractiveApp'\n",
    "\n",
    "model_path = os.path.join(base_path, 'meat_market_model.h5')\n",
    "scaler_path = os.path.join(base_path, 'scaler.pkl')\n",
    "item_encoder_path = os.path.join(base_path, 'Item_encoder.pkl')\n",
    "area_encoder_path = os.path.join(base_path, 'Area_encoder.pkl')\n",
    "\n",
    "# Function to check if file exists and is readable\n",
    "def check_file(path):\n",
    "    print(f\"Checking file: {path}\")\n",
    "    if os.path.exists(path):\n",
    "        if os.access(path, os.R_OK):\n",
    "            print(f\"File is readable: {path}\")\n",
    "            return True\n",
    "        else:\n",
    "            print(f\"File is not readable: {path}\")\n",
    "            return False\n",
    "    else:\n",
    "        print(f\"File does not exist: {path}\")\n",
    "        return False\n",
    "\n",
    "# Check files\n",
    "check_file(model_path)\n",
    "check_file(scaler_path)\n",
    "check_file(item_encoder_path)\n",
    "check_file(area_encoder_path)"
   ]
  }
 ],
 "metadata": {
  "kernelspec": {
   "display_name": "Python 3 (ipykernel)",
   "language": "python",
   "name": "python3"
  },
  "language_info": {
   "codemirror_mode": {
    "name": "ipython",
    "version": 3
   },
   "file_extension": ".py",
   "mimetype": "text/x-python",
   "name": "python",
   "nbconvert_exporter": "python",
   "pygments_lexer": "ipython3",
   "version": "3.11.9"
  }
 },
 "nbformat": 4,
 "nbformat_minor": 5
}
